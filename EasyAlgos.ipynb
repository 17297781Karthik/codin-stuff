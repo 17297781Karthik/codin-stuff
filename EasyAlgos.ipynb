{
 "cells": [
  {
   "cell_type": "code",
   "execution_count": 1,
   "id": "bc10c2a6-3719-4161-b12c-bd35d1f58d3f",
   "metadata": {},
   "outputs": [],
   "source": [
    "import numpy as np"
   ]
  },
  {
   "cell_type": "code",
   "execution_count": 49,
   "id": "ff4b2494-51dd-4c7e-9462-41b6a6db834e",
   "metadata": {},
   "outputs": [],
   "source": [
    "class graph:\n",
    "    def __init__(self):\n",
    "        self.arr = {}\n",
    "    def adder(self,u,v):\n",
    "        if u not in self.arr:\n",
    "            self.arr[u]= []\n",
    "        self.arr[u].append(v)\n",
    "\n",
    "\n",
    "    def dfs(self,start,goal):\n",
    "         path = []\n",
    "         vis= set()\n",
    "         path=self.dfs1(start,goal,path,vis)\n",
    "         if path:\n",
    "             print('path dose exists...')\n",
    "             print(path)\n",
    "             print(f\"\\nPath to {goal}: {' -> '.join(map(str, path))}\")\n",
    "         else:\n",
    "             print('no pathigga')\n",
    "    def dfs1(self,node,goal,path,vis):\n",
    "        path.append(node) \n",
    "        vis.add(node)\n",
    "        if node == goal:\n",
    "            \n",
    "            return path.copy()\n",
    "        for nei in self.arr.get(node ,[]):\n",
    "            if nei not in vis:\n",
    "                pyy=self.dfs1(nei,goal,path,vis)\n",
    "                if pyy:\n",
    "                    return pyy\n",
    "               \n",
    "                    \n",
    "        path.pop()\n",
    "        return None\n"
   ]
  },
  {
   "cell_type": "code",
   "execution_count": 50,
   "id": "87d0c795-551f-4674-b6b5-d836a2619189",
   "metadata": {},
   "outputs": [],
   "source": [
    "gr=graph()\n"
   ]
  },
  {
   "cell_type": "code",
   "execution_count": 51,
   "id": "224649b4-1eb2-4db9-9b4f-134138528e2b",
   "metadata": {},
   "outputs": [],
   "source": [
    "gr.adder(0,1)\n",
    "#gr.adder(1,2)\n",
    "gr.adder(2,0)\n",
    "gr.adder(1,0)\n",
    "gr.adder(0,2)"
   ]
  },
  {
   "cell_type": "code",
   "execution_count": 52,
   "id": "95cf3405-b9d4-4388-9940-59e62c424bfc",
   "metadata": {},
   "outputs": [
    {
     "name": "stdout",
     "output_type": "stream",
     "text": [
      "path dose exists...\n",
      "[0, 2]\n",
      "\n",
      "Path to 2: 0 -> 2\n"
     ]
    }
   ],
   "source": [
    "gr.dfs(0,2)"
   ]
  },
  {
   "cell_type": "code",
   "execution_count": 53,
   "id": "c273053c-33ce-4f2a-951b-be468c441910",
   "metadata": {},
   "outputs": [
    {
     "name": "stdin",
     "output_type": "stream",
     "text": [
      "Enter ni 3\n",
      "Enter neis of {i} :  1 2\n",
      "Enter neis of {i} :  0 2\n",
      "Enter neis of {i} :  0 1\n"
     ]
    }
   ],
   "source": [
    "n=int(input('Enter ni'))\n",
    "for i in range(n): \n",
    "    adj=input('Enter neis of {i} : ')\n",
    "    ax=adj.split()\n",
    "    for num in ax:\n",
    "        gr.adder(i,num)"
   ]
  },
  {
   "cell_type": "code",
   "execution_count": 75,
   "id": "e41c6968-0590-4a2f-8b2e-3c0f1737f0a7",
   "metadata": {},
   "outputs": [],
   "source": [
    "from collections import deque "
   ]
  },
  {
   "cell_type": "code",
   "execution_count": 87,
   "id": "e7ca1324-b467-404f-a517-048985e94075",
   "metadata": {},
   "outputs": [],
   "source": [
    "class bfs:\n",
    "    def __init__(self):\n",
    "        self.arr= {}\n",
    "    def adder(self,u,v): \n",
    "        if u not in self.arr: \n",
    "            self.arr[u]=[]\n",
    "        self.arr[u].append(v)\n",
    "\n",
    "\n",
    "    def bfss(self,start,goal): \n",
    "        vis=set()\n",
    "        path=[start]\n",
    "        q=deque([(start,path)]) \n",
    "        \n",
    "        while q:\n",
    "            node,pt=q.popleft()\n",
    "            vis.add(node)\n",
    "            if node == goal: \n",
    "                print('Path dose ')\n",
    "                print(pt)\n",
    "                return True\n",
    "            for no in self.arr.get(node,[]): \n",
    "                if no not in vis: \n",
    "                    q.append((no,path+[no]))\n",
    "        return None\n",
    "                    "
   ]
  },
  {
   "cell_type": "code",
   "execution_count": 88,
   "id": "5bbb8d33-bfd4-4ca0-adce-82954afe1c03",
   "metadata": {},
   "outputs": [],
   "source": [
    "grr=bfs()"
   ]
  },
  {
   "cell_type": "code",
   "execution_count": 89,
   "id": "6019fa12-0115-47ad-a7c9-5db20bac5b84",
   "metadata": {},
   "outputs": [],
   "source": [
    "grr.adder(0,1)\n",
    "#gr.adder(1,2)\n",
    "grr.adder(2,0)\n",
    "grr.adder(1,0)\n",
    "grr.adder(0,2)"
   ]
  },
  {
   "cell_type": "code",
   "execution_count": 90,
   "id": "19dffe41-87e2-46f0-b2f0-8e692394ff78",
   "metadata": {},
   "outputs": [
    {
     "name": "stdout",
     "output_type": "stream",
     "text": [
      "Path dose \n",
      "[0, 2]\n"
     ]
    },
    {
     "data": {
      "text/plain": [
       "True"
      ]
     },
     "execution_count": 90,
     "metadata": {},
     "output_type": "execute_result"
    }
   ],
   "source": [
    "grr.bfss(0,2)"
   ]
  },
  {
   "cell_type": "code",
   "execution_count": 91,
   "id": "6074428b-aff8-44db-979e-06e4f33d7336",
   "metadata": {},
   "outputs": [],
   "source": [
    "from collections import deque"
   ]
  },
  {
   "cell_type": "code",
   "execution_count": 92,
   "id": "d864dc68-1b93-4644-ab21-2d7dbb87022f",
   "metadata": {},
   "outputs": [],
   "source": [
    "q=deque([(1,[1,2,5])])"
   ]
  },
  {
   "cell_type": "code",
   "execution_count": 93,
   "id": "eca427aa-cb09-4bcf-a8ad-e069ff711b6b",
   "metadata": {},
   "outputs": [
    {
     "name": "stdout",
     "output_type": "stream",
     "text": [
      "deque([(1, [1, 2, 5])])\n"
     ]
    }
   ],
   "source": [
    "print(q)"
   ]
  },
  {
   "cell_type": "code",
   "execution_count": 110,
   "id": "29ca5e11-6d18-4d5c-bf54-4bc13e0396d4",
   "metadata": {},
   "outputs": [],
   "source": [
    "class ids: \n",
    "    def __init__(self): \n",
    "        self.arr={} \n",
    "    def adder(self , u ,v ): \n",
    "        if u  not in self.arr: \n",
    "            self.arr[u] =[]\n",
    "        self.arr[u].append(v)\n",
    "\n",
    "    def idss(self,start,goal): \n",
    "        maxd=0\n",
    "        while True:\n",
    "            pppp=self.idsearch(start,goal,maxd)\n",
    "            if pppp : \n",
    "                print('Path') \n",
    "                print(pppp)\n",
    "                return\n",
    "            maxd+=1\n",
    "    def idsearch(self,start,goal,maxd): \n",
    "        path=[] \n",
    "        vis=set()\n",
    "        return self.actual(start,goal,path,vis,maxd,0) \n",
    "    def actual(self,node ,goal,path,vis,maxd,cd): \n",
    "        path.append(node)\n",
    "        vis.add(node)\n",
    "        if maxd>cd:\n",
    "            return None\n",
    "        if node == goal: \n",
    "            return path.copy() \n",
    "        for nei in self.arr.get(node,[]): \n",
    "            if nei not in vis: \n",
    "                pres=self.actual(nei,goal,path,vis,maxd,cd+1)\n",
    "                if pres:\n",
    "                    return pres\n",
    "        path.pop()\n",
    "        return None\n",
    "                    \n",
    "\n",
    "                    \n",
    "\n",
    "            "
   ]
  },
  {
   "cell_type": "code",
   "execution_count": 111,
   "id": "33427e8c-3dd2-4928-94ef-f9db41689873",
   "metadata": {},
   "outputs": [],
   "source": [
    "\n",
    "qq=ids()\n",
    "qq.adder(0,1)\n",
    "#gr.adder(1,2)\n",
    "qq.adder(2,0)\n",
    "qq.adder(1,0)\n",
    "qq.adder(0,2)"
   ]
  },
  {
   "cell_type": "code",
   "execution_count": 112,
   "id": "0b83a924-756a-464a-9987-1d8725e29399",
   "metadata": {},
   "outputs": [
    {
     "name": "stdout",
     "output_type": "stream",
     "text": [
      "Path\n",
      "[0, 2]\n"
     ]
    }
   ],
   "source": [
    "qq.idss(0,2)"
   ]
  },
  {
   "cell_type": "code",
   "execution_count": 135,
   "id": "715352bd-adf1-41e4-9d0e-c4ff64a7da59",
   "metadata": {},
   "outputs": [],
   "source": [
    "import heapq"
   ]
  },
  {
   "cell_type": "code",
   "execution_count": 136,
   "id": "84751aac-8144-480e-b864-130d1341213b",
   "metadata": {},
   "outputs": [],
   "source": [
    "class ucs: \n",
    "    def __init__(self): \n",
    "        self.arr= {}\n",
    "    def adder(self,u,v,c): \n",
    "        if u not in self.arr: \n",
    "            self.arr[u]=[] \n",
    "        self.arr[u].append((v,c))\n",
    "\n",
    "\n",
    "    def uni(self,start,goal): \n",
    "        q=[]\n",
    "        vis={}\n",
    "        heapq.heappush(q,(start,0,[start]))\n",
    "        while q: \n",
    "            node,cost,path=heapq.heappop(q) \n",
    "            vis[node]=cost\n",
    "            if node == goal: \n",
    "                print('path dose')\n",
    "                print(path)\n",
    "                return True\n",
    "            for nei,cc in self.arr.get(node,[]): \n",
    "                if nei not in vis or vis[nei]>cost+cc: \n",
    "                    heapq.heappush(q,(nei,cost+cc,path+[nei]))\n",
    "        return None\n",
    "        "
   ]
  },
  {
   "cell_type": "code",
   "execution_count": 137,
   "id": "d53aaa0a-3c86-4349-9193-2aa2e12b8a57",
   "metadata": {},
   "outputs": [],
   "source": [
    "ads=ucs()\n"
   ]
  },
  {
   "cell_type": "code",
   "execution_count": 138,
   "id": "88c930bf-3721-475c-baff-417ba7291cac",
   "metadata": {},
   "outputs": [],
   "source": [
    "ads.adder(0, 1, 5)\n",
    "ads.adder(0, 2, 10)\n",
    "ads.adder(1, 2, 3)\n",
    "ads.adder(1, 3, 7)\n",
    "ads.adder(2, 3, 1)\n",
    "ads.adder(3, 0, 8)\n"
   ]
  },
  {
   "cell_type": "code",
   "execution_count": 140,
   "id": "4bc75395-e506-4dd7-bc85-aa4347b69575",
   "metadata": {},
   "outputs": [
    {
     "name": "stdout",
     "output_type": "stream",
     "text": [
      "path dose\n",
      "[2, 3, 0]\n"
     ]
    },
    {
     "data": {
      "text/plain": [
       "True"
      ]
     },
     "execution_count": 140,
     "metadata": {},
     "output_type": "execute_result"
    }
   ],
   "source": [
    "ads.uni(2,0)"
   ]
  },
  {
   "cell_type": "code",
   "execution_count": 142,
   "id": "9526b39c-fecd-4628-9d36-81fe6c309611",
   "metadata": {},
   "outputs": [],
   "source": [
    "class gbfs: \n",
    "    def __init__(self): \n",
    "        self.arr={}\n",
    "        self.hrr=[]\n",
    "    def adder(self,u,v,nooo): \n",
    "        if u not in self.arr: \n",
    "            self.arr[u]=[] \n",
    "        self.arr[u].append(v) \n",
    "\n",
    "    def addheu(self,heu): \n",
    "        self.hrr=heu \n",
    "\n",
    "    def search(self,start,goal): \n",
    "        q=[]\n",
    "        vis=set()\n",
    "        path=[start]\n",
    "        heapq.heappush(q,(self.hrr[start],start,path))\n",
    "        while q: \n",
    "            _,node,ptt=heapq.heappop(q)\n",
    "            if node == goal: \n",
    "                print('path....')\n",
    "                print(ptt)\n",
    "                return True\n",
    "            for nei in self.arr.get(node,[]): \n",
    "                if nei not in vis: \n",
    "                    heapq.heappush(q,(self.hrr[nei],nei,ptt+[nei]))\n",
    "        return False"
   ]
  },
  {
   "cell_type": "code",
   "execution_count": 143,
   "id": "bdefa803-206a-4cb9-b4f0-7e35309fd433",
   "metadata": {},
   "outputs": [],
   "source": [
    "adss=gbfs()"
   ]
  },
  {
   "cell_type": "code",
   "execution_count": 154,
   "id": "6cbd9ba9-3be7-4ba8-a45b-74e4001ccf35",
   "metadata": {},
   "outputs": [],
   "source": [
    "adss.adder(0, 1, 5)\n",
    "adss.adder(0, 2, 10)\n",
    "adss.adder(1, 2, 3)\n",
    "adss.adder(1, 3, 7)\n",
    "adss.adder(2, 3, 1)\n",
    "adss.adder(3, 0, 8)\n",
    "adss.addheu([122,5,21,0])"
   ]
  },
  {
   "cell_type": "code",
   "execution_count": 155,
   "id": "163eb163-b959-4bfd-9726-4ac42ad74da8",
   "metadata": {},
   "outputs": [
    {
     "name": "stdout",
     "output_type": "stream",
     "text": [
      "path....\n",
      "[0, 1, 2]\n"
     ]
    },
    {
     "data": {
      "text/plain": [
       "True"
      ]
     },
     "execution_count": 155,
     "metadata": {},
     "output_type": "execute_result"
    }
   ],
   "source": [
    "adss.search(0,2)"
   ]
  },
  {
   "cell_type": "code",
   "execution_count": 156,
   "id": "2198f0d4-1729-42b1-a712-3f3be0fbbb98",
   "metadata": {},
   "outputs": [],
   "source": [
    "import heapq\n",
    "class astar: \n",
    "    def __init__(self): \n",
    "        self.arr={}\n",
    "        self.hrr=[]\n",
    "\n",
    "    def adder(self,u,v,c): \n",
    "        if u not in self.arr: \n",
    "            self.arr[u]=[] \n",
    "        self.arr[u].append((v,c))\n",
    "    def heu(self,hrr): \n",
    "        self.hrr=hrr\n",
    "    def asalgo(self,start,goal): \n",
    "        vis={}\n",
    "        q=[] \n",
    "        heapq.heappush(q,(self.hrr[start],0,start,[start]))\n",
    "        while q: \n",
    "            hstic,cost,node,path=heapq.heappop(q)\n",
    "            if node == goal: \n",
    "                print('Path found...')\n",
    "                print(path)\n",
    "                return True\n",
    "            vis[node]=cost\n",
    "            for nei,cs in self.arr.get(node,[]): \n",
    "                if nei not in vis or vis[nei] > cost+cs:\n",
    "                    heapq.heappush(q,(self.hrr[nei]+cost+cs,cost+cs,nei,path+[nei]))\n",
    "        return None\n",
    "        "
   ]
  },
  {
   "cell_type": "code",
   "execution_count": 165,
   "id": "d58e44a0-66b5-411c-af3d-4fef0bce4b6d",
   "metadata": {},
   "outputs": [],
   "source": [
    "apr=astar()"
   ]
  },
  {
   "cell_type": "code",
   "execution_count": 166,
   "id": "f0b6f7fd-33c7-49a7-bdd2-2b40c1433581",
   "metadata": {},
   "outputs": [],
   "source": [
    "apr.adder(0, 1, 5)\n",
    "apr.adder(0, 2, 10)\n",
    "apr.adder(1, 2, 3)\n",
    "apr.adder(1, 3, 7)\n",
    "apr.adder(2, 3, 1)\n",
    "apr.adder(3, 0, 8)\n",
    "apr.heu([12,545,21,0])"
   ]
  },
  {
   "cell_type": "code",
   "execution_count": 167,
   "id": "4c2d042f-ec44-478f-9cf8-30779bf5357a",
   "metadata": {},
   "outputs": [
    {
     "name": "stdout",
     "output_type": "stream",
     "text": [
      "Path found...\n",
      "[0, 2, 3]\n"
     ]
    },
    {
     "data": {
      "text/plain": [
       "True"
      ]
     },
     "execution_count": 167,
     "metadata": {},
     "output_type": "execute_result"
    }
   ],
   "source": [
    "apr.asalgo(0,3)"
   ]
  },
  {
   "cell_type": "code",
   "execution_count": 174,
   "id": "ada6fc1e-69b2-45b5-a1c6-b1671f961be9",
   "metadata": {},
   "outputs": [
    {
     "name": "stdin",
     "output_type": "stream",
     "text": [
      "Enter the number of vertices:  3\n",
      "Enter the number of edges:  4\n"
     ]
    },
    {
     "name": "stdout",
     "output_type": "stream",
     "text": [
      "Enter the edges (u, v) where u and v are 0-indexed:\n"
     ]
    },
    {
     "name": "stdin",
     "output_type": "stream",
     "text": [
      " 1 2\n",
      " 0 2\n",
      " 0 1\n",
      " 1 0\n",
      "Enter the number of colors to use (maximum 3):  2\n"
     ]
    },
    {
     "name": "stdout",
     "output_type": "stream",
     "text": [
      "Solution does not exist\n"
     ]
    }
   ],
   "source": [
    "def is_safe(graph, color, vertex, c):\n",
    "    for i in range(len(graph)):\n",
    "        if graph[vertex][i] == 1 and color[i] == c:\n",
    "            return False\n",
    "    return True\n",
    "def graph_coloring_util(graph, m, color, vertex):\n",
    "    if vertex == len(graph):\n",
    "        return True\n",
    "    for c in range(m):\n",
    "        if is_safe(graph, color, vertex, c):\n",
    "            color[vertex] = c\n",
    "            if graph_coloring_util(graph, m, color, vertex + 1):\n",
    "                return True\n",
    "            color[vertex] = -1\n",
    "    return False\n",
    "def graph_coloring(graph, m):\n",
    "    n = len(graph)\n",
    "    color = [-1] * n\n",
    "    if not graph_coloring_util(graph, m, color, 0):\n",
    "        print(\"Solution does not exist\")\n",
    "        return None\n",
    "    return color\n",
    "def input_graph():\n",
    "    n = int(input(\"Enter the number of vertices: \"))\n",
    "    graph = [[0] * n for _ in range(n)]\n",
    "    e = int(input(\"Enter the number of edges: \"))\n",
    "    print(\"Enter the edges (u, v) where u and v are 0-indexed:\")\n",
    "    for _ in range(e):\n",
    "        u, v = map(int, input().split())\n",
    "        graph[u][v] = 1\n",
    "        graph[v][u] = 1\n",
    "    return graph, n\n",
    "def main():\n",
    "    graph, n = input_graph()\n",
    "    m = int(input(f\"Enter the number of colors to use (maximum {n}): \"))\n",
    "    color = graph_coloring(graph, m)\n",
    "   \n",
    "    if color:\n",
    "        print(\"\\nVertex coloring result:\")\n",
    "        for i in range(n):\n",
    "            print(f\"Vertex {i} -> Color {color[i]}\")\n",
    "if __name__ == \"__main__\":\n",
    "    \n",
    "     main()"
   ]
  },
  {
   "cell_type": "code",
   "execution_count": 178,
   "id": "489d422c-cc0e-4c03-9f27-cc78adf9521a",
   "metadata": {},
   "outputs": [
    {
     "name": "stdin",
     "output_type": "stream",
     "text": [
      "Enter the size of the n x n matrix:  3\n"
     ]
    },
    {
     "name": "stdout",
     "output_type": "stream",
     "text": [
      "Enter the grid row by row (0 for clean, 1 for dirty):\n"
     ]
    },
    {
     "name": "stdin",
     "output_type": "stream",
     "text": [
      " 1 0 1\n",
      " 1 1 1\n",
      " 0 0 1\n"
     ]
    },
    {
     "name": "stdout",
     "output_type": "stream",
     "text": [
      "Moving to posi on: (0, 0)\n",
      "Dirty spot found. Cleaning...\n",
      "Spot cleaned.\n",
      "Moving to posi on: (0, 1)\n",
      "Spot is already clean.\n",
      "Moving to posi on: (0, 2)\n",
      "Dirty spot found. Cleaning...\n",
      "Spot cleaned.\n",
      "Moving to posi on: (1, 0)\n",
      "Dirty spot found. Cleaning...\n",
      "Spot cleaned.\n",
      "Moving to posi on: (1, 1)\n",
      "Dirty spot found. Cleaning...\n",
      "Spot cleaned.\n",
      "Moving to posi on: (1, 2)\n",
      "Dirty spot found. Cleaning...\n",
      "Spot cleaned.\n",
      "Moving to posi on: (2, 0)\n",
      "Spot is already clean.\n",
      "Moving to posi on: (2, 1)\n",
      "Spot is already clean.\n",
      "Moving to posi on: (2, 2)\n",
      "Dirty spot found. Cleaning...\n",
      "Spot cleaned.\n",
      "Cleaning complete. Environment is clean now!\n",
      "\n",
      "Current state of the environment:\n",
      "[0, 0, 0]\n",
      "[0, 0, 0]\n",
      "[0, 0, 0]\n"
     ]
    }
   ],
   "source": [
    "class VacuumCleanerAgent: \n",
    "    def __init__(self, environment): \n",
    "        self.environment = environment \n",
    "        # Ini al posi on of the vacuum cleaner \n",
    "        self.position = (0, 0) \n",
    " \n",
    "    def clean(self): \n",
    "        # Get the environment dimensions \n",
    "        rows = len(self.environment) \n",
    "        cols = len(self.environment[0]) \n",
    " \n",
    "        # Iterate over the grid to clean it \n",
    "        for row in range(rows): \n",
    "            for col in range(cols): \n",
    "                # Move to the current cell \n",
    "                self.position = (row, col) \n",
    "                print(f\"Moving to posi on: {self.position}\") \n",
    " \n",
    "                # If the cell is dirty (represented by 1), clean it \n",
    "                if self.environment[row][col] == 1: \n",
    "                    print(\"Dirty spot found. Cleaning...\") \n",
    "                    self.environment[row][col] = 0 \n",
    "                    print(\"Spot cleaned.\") \n",
    "                else: \n",
    "                    print(\"Spot is already clean.\") \n",
    " \n",
    "        print(\"Cleaning complete. Environment is clean now!\") \n",
    "        self.display_environment() \n",
    " \n",
    "    def display_environment(self): \n",
    "        print(\"\\nCurrent state of the environment:\") \n",
    "        for row in self.environment: \n",
    "            print(row) \n",
    " \n",
    "def get_environment_input(): \n",
    "    n = int(input(\"Enter the size of the n x n matrix: \")) \n",
    "    print(\"Enter the grid row by row (0 for clean, 1 for dirty):\") \n",
    "    environment = [] \n",
    "    for _ in range(n): \n",
    "        row = list(map(int, input().split())) \n",
    "        if len(row) != n: \n",
    "            print(f\"Error: Each row must have exactly {n} values. Try again.\") \n",
    "            return get_environment_input() \n",
    "        environment.append(row) \n",
    "    return environment \n",
    " \n",
    "# Main program \n",
    "if __name__ == \"__main__\": \n",
    "    environment = get_environment_input() \n",
    "    vacuum = VacuumCleanerAgent(environment) \n",
    "    vacuum.clean() "
   ]
  },
  {
   "cell_type": "code",
   "execution_count": 183,
   "id": "effe21ec-ea05-46f4-83d4-1f842d592711",
   "metadata": {},
   "outputs": [
    {
     "name": "stdout",
     "output_type": "stream",
     "text": [
      "Initial state of the room:\n",
      "1 0 1\n",
      "0 1 0\n",
      "1 0 1\n",
      "\n",
      "Cleaning dirt at position (0, 0)\n",
      "Room at position (0, 1) is already clean\n",
      "Cleaning dirt at position (0, 2)\n",
      "Room at position (1, 2) is already clean\n",
      "Cleaning dirt at position (2, 2)\n",
      "Room at position (2, 1) is already clean\n",
      "Cleaning dirt at position (2, 0)\n",
      "Room at position (1, 0) is already clean\n",
      "Cleaning dirt at position (1, 1)\n",
      "Final state of the room:\n",
      "0 0 0\n",
      "0 0 0\n",
      "0 0 0\n",
      "\n"
     ]
    }
   ],
   "source": [
    "def display_grid(grid):\n",
    "    for row in grid:\n",
    "        print(' '.join(map(str, row)))\n",
    "    print()\n",
    "\n",
    "def clean_room_spiral(grid):\n",
    "    rows = len(grid)\n",
    "    cols = len(grid[0])\n",
    "    \n",
    "    print(\"Initial state of the room:\")\n",
    "    display_grid(grid)\n",
    "    \n",
    "    # Directions: right, down, left, up\n",
    "    directions = [(0, 1), (1, 0), (0, -1), (-1, 0)]\n",
    "    direction_index = 0\n",
    "    x, y = 0, 0\n",
    "    visited = [[False] * cols for _ in range(rows)]\n",
    "    \n",
    "    for _ in range(rows * cols):\n",
    "        if grid[x][y] == 1:\n",
    "            print(f\"Cleaning dirt at position ({x}, {y})\")\n",
    "            grid[x][y] = 0\n",
    "        else:\n",
    "            print(f\"Room at position ({x}, {y}) is already clean\")\n",
    "        \n",
    "        visited[x][y] = True\n",
    "        \n",
    "        # Calculate next position\n",
    "        next_x = x + directions[direction_index][0]\n",
    "        next_y = y + directions[direction_index][1]\n",
    "        \n",
    "        # Check if next position is within bounds and not visited\n",
    "        if 0 <= next_x < rows and 0 <= next_y < cols and not visited[next_x][next_y]:\n",
    "            x, y = next_x, next_y\n",
    "        else:\n",
    "            # Change direction\n",
    "            direction_index = (direction_index + 1) % 4\n",
    "            x += directions[direction_index][0]\n",
    "            y += directions[direction_index][1]\n",
    "    \n",
    "    print(\"Final state of the room:\")\n",
    "    display_grid(grid)\n",
    "\n",
    "# Example grid (3x3)\n",
    "room = [\n",
    "    [1, 0, 1],\n",
    "    [0, 1, 0],\n",
    "    [1, 0, 1]\n",
    "]\n",
    "\n",
    "clean_room_spiral(room)"
   ]
  },
  {
   "cell_type": "code",
   "execution_count": null,
   "id": "69f2d7dd-2abb-4bbf-ab97-133e947d145e",
   "metadata": {},
   "outputs": [
    {
     "name": "stdout",
     "output_type": "stream",
     "text": [
      "Initial state of the room:\n",
      "1 0 1\n",
      "0 -1 0\n",
      "1 0 1\n",
      "\n",
      "Cleaning dirt at position (0, 0)\n",
      "Room at position (0, 1) is already clean\n",
      "Cleaning dirt at position (0, 2)\n",
      "Room at position (1, 2) is already clean\n",
      "Cleaning dirt at position (2, 2)\n",
      "Room at position (2, 1) is already clean\n",
      "Cleaning dirt at position (2, 0)\n",
      "Room at position (1, 0) is already clean\n"
     ]
    }
   ],
   "source": [
    "def display_grid(grid):\n",
    "    for row in grid:\n",
    "        print(' '.join(map(str, row)))\n",
    "    print()\n",
    "\n",
    "def clean_room_spiral(grid):\n",
    "    rows = len(grid)\n",
    "    cols = len(grid[0])\n",
    "    \n",
    "    print(\"Initial state of the room:\")\n",
    "    display_grid(grid)\n",
    "    \n",
    "    # Directions: right, down, left, up\n",
    "    directions = [(0, 1), (1, 0), (0, -1), (-1, 0)]\n",
    "    direction_index = 0\n",
    "    x, y = 0, 0\n",
    "    visited = [[False] * cols for _ in range(rows)]\n",
    "    \n",
    "    for _ in range(rows * cols):\n",
    "        if grid[x][y] == 1:\n",
    "            print(f\"Cleaning dirt at position ({x}, {y})\")\n",
    "            grid[x][y] = 0\n",
    "        elif grid[x][y] == -1:\n",
    "            print(f\"Encountered obstacle at position ({x}, {y}), moving on\")\n",
    "        else:\n",
    "            print(f\"Room at position ({x}, {y}) is already clean\")\n",
    "        \n",
    "        visited[x][y] = True\n",
    "        \n",
    "        # Calculate next position\n",
    "        next_x = x + directions[direction_index][0]\n",
    "        next_y = y + directions[direction_index][1]\n",
    "        \n",
    "        # Check if next position is within bounds, not visited, and not an obstacle\n",
    "        if 0 <= next_x < rows and 0 <= next_y < cols and not visited[next_x][next_y] and grid[next_x][next_y] != -1:\n",
    "            x, y = next_x, next_y\n",
    "        else:\n",
    "            # Change direction\n",
    "            direction_index = (direction_index + 1) % 4\n",
    "            x += directions[direction_index][0]\n",
    "            y += directions[direction_index][1]\n",
    "            # Ensure the new position is valid\n",
    "            while not (0 <= x < rows and 0 <= y < cols and not visited[x][y] and grid[x][y] != -1):\n",
    "                direction_index = (direction_index + 1) % 4\n",
    "                x += directions[direction_index][0]\n",
    "                y += directions[direction_index][1]\n",
    "    \n",
    "    print(\"Final state of the room:\")\n",
    "    display_grid(grid)\n",
    "\n",
    "# Example grid (3x3) with an obstacle at (1, 1)\n",
    "room = [\n",
    "    [1, 0, 1],\n",
    "    [0, -1, 0],\n",
    "    [1, 0, 1]\n",
    "]\n",
    "\n",
    "clean_room_spiral(room)"
   ]
  },
  {
   "cell_type": "code",
   "execution_count": null,
   "id": "bac0d9b1-cf19-4442-a807-b6a948f2b164",
   "metadata": {},
   "outputs": [],
   "source": []
  }
 ],
 "metadata": {
  "kernelspec": {
   "display_name": "Python 3 (ipykernel)",
   "language": "python",
   "name": "python3"
  },
  "language_info": {
   "codemirror_mode": {
    "name": "ipython",
    "version": 3
   },
   "file_extension": ".py",
   "mimetype": "text/x-python",
   "name": "python",
   "nbconvert_exporter": "python",
   "pygments_lexer": "ipython3",
   "version": "3.11.0"
  }
 },
 "nbformat": 4,
 "nbformat_minor": 5
}
