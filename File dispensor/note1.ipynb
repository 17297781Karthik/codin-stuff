{
 "cells": [
  {
   "cell_type": "code",
   "execution_count": 1,
   "id": "initial_id",
   "metadata": {
    "ExecuteTime": {
     "end_time": "2024-11-15T16:00:52.796807Z",
     "start_time": "2024-11-15T16:00:52.794033Z"
    }
   },
   "outputs": [],
   "source": [
    "import os\n"
   ]
  },
  {
   "cell_type": "code",
   "execution_count": 7,
   "id": "9d598d80771997ea",
   "metadata": {},
   "outputs": [],
   "source": [
    "file1=open(\"dispensor.py\",\"rt\")\n"
   ]
  },
  {
   "cell_type": "code",
   "execution_count": 11,
   "id": "caf64c6a-f0ea-4695-b203-c2804332ba2d",
   "metadata": {},
   "outputs": [
    {
     "name": "stdout",
     "output_type": "stream",
     "text": [
      "<_io.TextIOWrapper name='dispensor.py' mode='wt' encoding='cp1252'>\n"
     ]
    }
   ],
   "source": [
    "print(file1)"
   ]
  },
  {
   "cell_type": "code",
   "execution_count": 13,
   "id": "95c08cf4-3cce-4913-a0fb-977ac07aa771",
   "metadata": {},
   "outputs": [
    {
     "name": "stdout",
     "output_type": "stream",
     "text": [
      "True\n",
      "False\n"
     ]
    }
   ],
   "source": [
    "print(os.path.exists('dispensor.py'))\n",
    "print(os.path.exists('dispensor1.py'))"
   ]
  },
  {
   "cell_type": "code",
   "execution_count": 22,
   "id": "aa694039-f6e3-4d4d-b9e7-5b7a0f69ac80",
   "metadata": {},
   "outputs": [],
   "source": [
    "from datetime import datetime,timedelta"
   ]
  },
  {
   "cell_type": "code",
   "execution_count": 15,
   "id": "56661dec-386e-4c7e-b06b-649273e2f58b",
   "metadata": {},
   "outputs": [
    {
     "name": "stdout",
     "output_type": "stream",
     "text": [
      "2024-11-15 21:40:34.318790\n"
     ]
    }
   ],
   "source": [
    "print(datetime.now())"
   ]
  },
  {
   "cell_type": "code",
   "execution_count": 16,
   "id": "7385e5fc-52a5-44d3-8a3b-f35007709887",
   "metadata": {},
   "outputs": [
    {
     "name": "stdout",
     "output_type": "stream",
     "text": [
      "1731687060.415409\n"
     ]
    }
   ],
   "source": [
    "print(datetime.now().timestamp())"
   ]
  },
  {
   "cell_type": "code",
   "execution_count": 18,
   "id": "c545e85a-277f-442b-9602-e889740760c6",
   "metadata": {},
   "outputs": [
    {
     "data": {
      "text/plain": [
       "\u001b[1;31mDocstring:\u001b[0m Return POSIX timestamp as float.\n",
       "\u001b[1;31mType:\u001b[0m      method_descriptor"
      ]
     },
     "metadata": {},
     "output_type": "display_data"
    }
   ],
   "source": [
    "datetime.timestamp?"
   ]
  },
  {
   "cell_type": "code",
   "execution_count": 19,
   "id": "6baa365f-c54d-4235-b264-a5ea75ed0dc6",
   "metadata": {},
   "outputs": [
    {
     "data": {
      "text/plain": [
       "1731686839.466577"
      ]
     },
     "execution_count": 19,
     "metadata": {},
     "output_type": "execute_result"
    }
   ],
   "source": [
    "path='dispensor.py'\n",
    "time=os.path.getmtime(path)\n",
    "time"
   ]
  },
  {
   "cell_type": "code",
   "execution_count": 38,
   "id": "6428d689-b44e-446f-9098-3d86d0e08326",
   "metadata": {},
   "outputs": [
    {
     "data": {
      "text/plain": [
       "1731687161.770378"
      ]
     },
     "execution_count": 38,
     "metadata": {},
     "output_type": "execute_result"
    }
   ],
   "source": [
    "thr=(datetime.now() - timedelta(minutes=10)).timestamp()\n",
    "thr"
   ]
  },
  {
   "cell_type": "code",
   "execution_count": 39,
   "id": "40a69147-fcf0-461f-8e4b-464cf7ab475f",
   "metadata": {},
   "outputs": [
    {
     "name": "stdout",
     "output_type": "stream",
     "text": [
      "A old file\n"
     ]
    }
   ],
   "source": [
    "if time >thr:\n",
    "    print('A new file')\n",
    "else:\n",
    "    print('A old file')"
   ]
  },
  {
   "cell_type": "code",
   "execution_count": 40,
   "id": "ff5ad344-5195-4dca-a61b-f12a21b3fbb8",
   "metadata": {},
   "outputs": [
    {
     "name": "stdout",
     "output_type": "stream",
     "text": [
      "False\n"
     ]
    }
   ],
   "source": [
    "print(os.path.isdir('dispensor.py'))"
   ]
  },
  {
   "cell_type": "code",
   "execution_count": 41,
   "id": "640a43b7-3cab-4106-9089-8702951ab81c",
   "metadata": {},
   "outputs": [
    {
     "data": {
      "text/plain": [
       "['.ipynb_checkpoints', 'dispensor.py', 'note1.ipynb']"
      ]
     },
     "execution_count": 41,
     "metadata": {},
     "output_type": "execute_result"
    }
   ],
   "source": [
    "os.listdir()"
   ]
  },
  {
   "cell_type": "code",
   "execution_count": 42,
   "id": "9b9d130c-7b93-413b-a9c5-f7aa286a840b",
   "metadata": {},
   "outputs": [
    {
     "name": "stdout",
     "output_type": "stream",
     "text": [
      ".ipynb_checkpoints\n",
      "dispensor.py\n",
      "note1.ipynb\n"
     ]
    }
   ],
   "source": [
    "for i in os.listdir():\n",
    "    print(i)"
   ]
  },
  {
   "cell_type": "code",
   "execution_count": 44,
   "id": "f330190f-21e2-40d1-a701-9d2c38f7c946",
   "metadata": {},
   "outputs": [
    {
     "data": {
      "text/plain": [
       "\u001b[1;31mSignature:\u001b[0m \u001b[0mos\u001b[0m\u001b[1;33m.\u001b[0m\u001b[0mremove\u001b[0m\u001b[1;33m(\u001b[0m\u001b[0mpath\u001b[0m\u001b[1;33m,\u001b[0m \u001b[1;33m*\u001b[0m\u001b[1;33m,\u001b[0m \u001b[0mdir_fd\u001b[0m\u001b[1;33m=\u001b[0m\u001b[1;32mNone\u001b[0m\u001b[1;33m)\u001b[0m\u001b[1;33m\u001b[0m\u001b[1;33m\u001b[0m\u001b[0m\n",
       "\u001b[1;31mDocstring:\u001b[0m\n",
       "Remove a file (same as unlink()).\n",
       "\n",
       "If dir_fd is not None, it should be a file descriptor open to a directory,\n",
       "  and path should be relative; path will then be relative to that directory.\n",
       "dir_fd may not be implemented on your platform.\n",
       "  If it is unavailable, using it will raise a NotImplementedError.\n",
       "\u001b[1;31mType:\u001b[0m      builtin_function_or_method"
      ]
     },
     "metadata": {},
     "output_type": "display_data"
    }
   ],
   "source": [
    "os.remove?"
   ]
  },
  {
   "cell_type": "code",
   "execution_count": null,
   "id": "4f9b105d-f61a-4e61-a43f-34cc32fc2a6b",
   "metadata": {},
   "outputs": [],
   "source": [
    "print('fr')"
   ]
  },
  {
   "cell_type": "code",
   "execution_count": null,
   "id": "6b40284e-eb13-462f-9e52-1905a0564b43",
   "metadata": {},
   "outputs": [],
   "source": []
  }
 ],
 "metadata": {
  "kernelspec": {
   "display_name": "Python 3 (ipykernel)",
   "language": "python",
   "name": "python3"
  },
  "language_info": {
   "codemirror_mode": {
    "name": "ipython",
    "version": 3
   },
   "file_extension": ".py",
   "mimetype": "text/x-python",
   "name": "python",
   "nbconvert_exporter": "python",
   "pygments_lexer": "ipython3",
   "version": "3.11.0"
  }
 },
 "nbformat": 4,
 "nbformat_minor": 5
}
